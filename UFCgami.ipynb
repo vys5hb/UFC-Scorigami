{
 "cells": [
  {
   "cell_type": "code",
   "execution_count": 11,
   "metadata": {},
   "outputs": [
    {
     "data": {
      "text/html": [
       "\n",
       "        <iframe\n",
       "            width=\"100%\"\n",
       "            height=\"650\"\n",
       "            src=\"http://127.0.0.1:8050/\"\n",
       "            frameborder=\"0\"\n",
       "            allowfullscreen\n",
       "            \n",
       "        ></iframe>\n",
       "        "
      ],
      "text/plain": [
       "<IPython.lib.display.IFrame at 0x108562fd0>"
      ]
     },
     "metadata": {},
     "output_type": "display_data"
    }
   ],
   "source": [
    "import sqlite3\n",
    "import pandas as pd\n",
    "import dash\n",
    "from dash import dcc, html, dash_table\n",
    "from dash.dependencies import Input, Output\n",
    "\n",
    "# Connect to the database\n",
    "conn = sqlite3.connect('ufc_scorigami.db')\n",
    "cursor = conn.cursor()\n",
    "df = pd.read_sql_query(\"SELECT * FROM ufc_fights;\", conn)\n",
    "\n",
    "# Extract unique fight-ending times\n",
    "unique_scorigami = df[['round', 'time']].drop_duplicates().reset_index(drop=True)\n",
    "\n",
    "# Convert time to seconds\n",
    "def time_to_seconds(time_str):\n",
    "    minutes, seconds = map(int, time_str.split(':'))\n",
    "    return minutes * 60 + seconds\n",
    "\n",
    "# Apply conversion\n",
    "unique_scorigami['total_seconds'] = unique_scorigami['time'].apply(time_to_seconds)\n",
    "\n",
    "# Create a dictionary mapping (round, total_seconds) to True (meaning it has happened)\n",
    "time_occurrences = {(row['round'], row['total_seconds']): True for _, row in unique_scorigami.iterrows()}\n",
    "\n",
    "# Generate time labels from 0:00 to 5:00 (0-300 seconds)\n",
    "time_labels = [f\"{i//60}:{i%60:02d}\" for i in range(301)]\n",
    "\n",
    "# Create the DataFrame structure\n",
    "heatmap_df = pd.DataFrame(index=range(1, 6), columns=time_labels)\n",
    "\n",
    "# Fill in the DataFrame with \"✅\" for True (happened) and \"\" for False (never happened)\n",
    "for round_num in range(1, 6):\n",
    "    for sec in range(301):\n",
    "        if time_occurrences.get((round_num, sec), False):\n",
    "            heatmap_df.at[round_num, f\"{sec//60}:{sec%60:02d}\"] = \"✅\"\n",
    "        else:\n",
    "            heatmap_df.at[round_num, f\"{sec//60}:{sec%60:02d}\"] = \"\"\n",
    "\n",
    "# Convert DataFrame to Dash-compatible format\n",
    "heatmap_data = heatmap_df.reset_index().rename(columns={'index': 'Round'})\n",
    "\n",
    "# Create the Dash app\n",
    "app = dash.Dash(__name__)\n",
    "\n",
    "app.layout = html.Div([\n",
    "    html.H3(\n",
    "        \"UFC Scorigami: Fight Ending Times\",\n",
    "        style={'color': 'white', 'textAlign': 'center', 'fontWeight': 'bold'}\n",
    "    ),\n",
    "    dash_table.DataTable(\n",
    "        id='scorigami-table',\n",
    "        columns=[{'name': 'Round', 'id': 'Round'}] + \n",
    "                 [{'name': t, 'id': t} for t in time_labels],\n",
    "        data=heatmap_data.to_dict('records'),\n",
    "        style_table={'overflowX': 'auto', 'width': '100%', 'maxHeight': '500px'},\n",
    "        style_header={'backgroundColor': 'lightgrey', 'fontWeight': 'bold', 'textAlign': 'center'},\n",
    "        style_cell={'textAlign': 'center', 'border': '1px solid black', 'padding': '5px'},\n",
    "        style_data_conditional=[\n",
    "            {\n",
    "                'if': {'filter_query': f'{{{t}}} eq \"✅\"', 'column_id': t},\n",
    "                'backgroundColor': 'green',\n",
    "                'color': 'green'  # Green for True values\n",
    "            } for t in time_labels\n",
    "        ] + [\n",
    "            {\n",
    "                'if': {'filter_query': f'{{{t}}} eq \"\"', 'column_id': t},\n",
    "                'backgroundColor': 'red',\n",
    "                'color': 'red'  # Red for False values\n",
    "            } for t in time_labels\n",
    "        ]\n",
    "    )\n",
    "])\n",
    "\n",
    "if __name__ == '__main__':\n",
    "    app.run_server(debug=True)"
   ]
  },
  {
   "cell_type": "code",
   "execution_count": 2,
   "metadata": {},
   "outputs": [],
   "source": [
    "conn.close()"
   ]
  }
 ],
 "metadata": {
  "kernelspec": {
   "display_name": "Python 3",
   "language": "python",
   "name": "python3"
  },
  "language_info": {
   "codemirror_mode": {
    "name": "ipython",
    "version": 3
   },
   "file_extension": ".py",
   "mimetype": "text/x-python",
   "name": "python",
   "nbconvert_exporter": "python",
   "pygments_lexer": "ipython3",
   "version": "3.13.0"
  }
 },
 "nbformat": 4,
 "nbformat_minor": 2
}
